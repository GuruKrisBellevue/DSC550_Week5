{
 "cells": [
  {
   "cell_type": "markdown",
   "id": "406eec99",
   "metadata": {
    "toc": true
   },
   "source": [
    "<h1>Table of Contents<span class=\"tocSkip\"></span></h1>\n",
    "<div class=\"toc\"><ul class=\"toc-item\"><li><span><a href=\"#1.-Get-the-stemmed-data-using-the-same-process-you-did-in-Week-3.\" data-toc-modified-id=\"1.-Get-the-stemmed-data-using-the-same-process-you-did-in-Week-3.-1\">1. Get the stemmed data using the same process you did in Week 3.</a></span></li><li><span><a href=\"#2.-Split-this-into-a-training-and-test-set.\" data-toc-modified-id=\"2.-Split-this-into-a-training-and-test-set.-2\">2. Split this into a training and test set.</a></span></li><li><span><a href=\"#3.-Fit-and-apply-the-tf-idf-vectorization-to-the-training-set.\" data-toc-modified-id=\"3.-Fit-and-apply-the-tf-idf-vectorization-to-the-training-set.-3\">3. Fit and apply the tf-idf vectorization to the training set.</a></span></li><li><span><a href=\"#4.Apply-but-DO-NOT-FIT-the-tf-idf-vectorization-to-the-test-set-(Why?).\" data-toc-modified-id=\"4.Apply-but-DO-NOT-FIT-the-tf-idf-vectorization-to-the-test-set-(Why?).-4\">4.Apply but DO NOT FIT the tf-idf vectorization to the test set (Why?).</a></span><ul class=\"toc-item\"><li><span><a href=\"#Solution:-The-reason-not-to-fit-test-dataset,-is-because-the-sparse-matrix-with-the-training-set-is-already-created-in-the-previous-step.-We-then-apply-that-to-the-test-data-and-create-a-sparse-matrix-based-on-the-feature-names-obtained-from-the-training-sparse-matrix-and-evaluatethe-performance-how-the-test-data-is-able-to-predict-the-sentiment-using-a-machine-learning-algorithm.\" data-toc-modified-id=\"Solution:-The-reason-not-to-fit-test-dataset,-is-because-the-sparse-matrix-with-the-training-set-is-already-created-in-the-previous-step.-We-then-apply-that-to-the-test-data-and-create-a-sparse-matrix-based-on-the-feature-names-obtained-from-the-training-sparse-matrix-and-evaluatethe-performance-how-the-test-data-is-able-to-predict-the-sentiment-using-a-machine-learning-algorithm.-4.1\">Solution: The reason not to fit test dataset, is because the sparse matrix with the training set is already created in the previous step. We then apply that to the test data and create a sparse matrix based on the feature names obtained from the training sparse matrix and evaluatethe performance how the test data is able to predict the sentiment using a machine learning algorithm.</a></span></li><li><span><a href=\"#On-the-contrary,-if-we-try-to-&quot;fit&quot;-the-test-data-to-the-tfidf-object,-it-will-create-a-sparse-matrix-with-a-complete-new-list-of-feature-names-which-is-not-intended.\" data-toc-modified-id=\"On-the-contrary,-if-we-try-to-&quot;fit&quot;-the-test-data-to-the-tfidf-object,-it-will-create-a-sparse-matrix-with-a-complete-new-list-of-feature-names-which-is-not-intended.-4.2\">On the contrary, if we try to \"fit\" the test data to the tfidf object, it will create a sparse matrix with a complete new list of feature names which is not intended.</a></span></li></ul></li><li><span><a href=\"#5.-Train-a-logistic-regression-using-the-training-data.\" data-toc-modified-id=\"5.-Train-a-logistic-regression-using-the-training-data.-5\">5. Train a logistic regression using the training data.</a></span></li><li><span><a href=\"#6.-Find-the-model-accuracy-on-test-set.\" data-toc-modified-id=\"6.-Find-the-model-accuracy-on-test-set.-6\">6. Find the model accuracy on test set.</a></span></li><li><span><a href=\"#7.-Create-a-confusion-matrix-for-the-test-set-predictions.\" data-toc-modified-id=\"7.-Create-a-confusion-matrix-for-the-test-set-predictions.-7\">7. Create a confusion matrix for the test set predictions.</a></span></li><li><span><a href=\"#8.-Get-the-precision,-recall,-and-F1-score-for-the-test-set-predictions.\" data-toc-modified-id=\"8.-Get-the-precision,-recall,-and-F1-score-for-the-test-set-predictions.-8\">8. Get the precision, recall, and F1-score for the test set predictions.</a></span><ul class=\"toc-item\"><li><span><a href=\"#The-Precision-indicates-the-percentage-of-all-postive-predictions-made-by-the-model-and-how-accurate-is-it.-The-recall-indicates-the-percentage-of-all-the-positives-that-were-accurately-predicted-by-the-model.-The-F1--score-is-the-harmonic-mean-between-the-precision-and-recall-scores.-The-results-indicate-that-the-logistic-regression-model-can-be-a-better-model-as-the-Precision,-recall-and-f1-score-all-are-close-to-1.\" data-toc-modified-id=\"The-Precision-indicates-the-percentage-of-all-postive-predictions-made-by-the-model-and-how-accurate-is-it.-The-recall-indicates-the-percentage-of-all-the-positives-that-were-accurately-predicted-by-the-model.-The-F1--score-is-the-harmonic-mean-between-the-precision-and-recall-scores.-The-results-indicate-that-the-logistic-regression-model-can-be-a-better-model-as-the-Precision,-recall-and-f1-score-all-are-close-to-1.-8.1\">The Precision indicates the percentage of all postive predictions made by the model and how accurate is it. The recall indicates the percentage of all the positives that were accurately predicted by the model. The F1- score is the harmonic mean between the precision and recall scores. The results indicate that the logistic regression model can be a better model as the Precision, recall and f1-score all are close to 1.</a></span></li></ul></li><li><span><a href=\"#9.-Create-a-ROC-curve-for-the-test-set.\" data-toc-modified-id=\"9.-Create-a-ROC-curve-for-the-test-set.-9\">9. Create a ROC curve for the test set.</a></span><ul class=\"toc-item\"><li><span><a href=\"#The-ROC-curve-is-one-of-the-useful-method-to-find-if-our-model-is-a-good-fit-for-the-dataset.The-gray-line-indicates-a-model-that-predicts-every-observation-correctly.-The-red-curve-indicates-that-our-model-is-close-to-the-gray-line-and-is-farther-from-the-blue-dotted-line-(which-is-from-random-model),-indicating-the-logit-model-can-be-a-good-fit.\" data-toc-modified-id=\"The-ROC-curve-is-one-of-the-useful-method-to-find-if-our-model-is-a-good-fit-for-the-dataset.The-gray-line-indicates-a-model-that-predicts-every-observation-correctly.-The-red-curve-indicates-that-our-model-is-close-to-the-gray-line-and-is-farther-from-the-blue-dotted-line-(which-is-from-random-model),-indicating-the-logit-model-can-be-a-good-fit.-9.1\">The ROC curve is one of the useful method to find if our model is a good fit for the dataset.The gray line indicates a model that predicts every observation correctly. The red curve indicates that our model is close to the gray line and is farther from the blue dotted line (which is from random model), indicating the logit model can be a good fit.</a></span></li></ul></li><li><span><a href=\"#10.-Pick-another-classification-model-you-learned-about-this-week-and-repeat-steps-(5)-–-(9).\" data-toc-modified-id=\"10.-Pick-another-classification-model-you-learned-about-this-week-and-repeat-steps-(5)-–-(9).-10\">10. Pick another classification model you learned about this week and repeat steps (5) – (9).</a></span><ul class=\"toc-item\"><li><span><a href=\"#SVM\" data-toc-modified-id=\"SVM-10.1\">SVM</a></span></li><li><span><a href=\"#Naive-bayes\" data-toc-modified-id=\"Naive-bayes-10.2\">Naive bayes</a></span></li><li><span><a href=\"#The-ROC-Curve--indicates-that-Logistic-regression-and-SVM-can-be-a-better-fit-than-Naive-Bayes-due-to-it-being-close-to-the-optimal-Gray-line.-More-area-under-the-curve-indicates-a-better-fit-for-the-dataset.-This-is-also-evident-from-the-accuracy-scores-of-the-2-models.\" data-toc-modified-id=\"The-ROC-Curve--indicates-that-Logistic-regression-and-SVM-can-be-a-better-fit-than-Naive-Bayes-due-to-it-being-close-to-the-optimal-Gray-line.-More-area-under-the-curve-indicates-a-better-fit-for-the-dataset.-This-is-also-evident-from-the-accuracy-scores-of-the-2-models.-10.3\">The ROC Curve  indicates that Logistic regression and SVM can be a better fit than Naive Bayes due to it being close to the optimal Gray line. More area under the curve indicates a better fit for the dataset. This is also evident from the accuracy scores of the 2 models.</a></span></li></ul></li></ul></div>"
   ]
  },
  {
   "cell_type": "markdown",
   "id": "d11bb7d9",
   "metadata": {},
   "source": [
    "#  DSC550 Week5 - Assignment"
   ]
  },
  {
   "cell_type": "markdown",
   "id": "bd2593df",
   "metadata": {},
   "source": [
    "# Guruprasad Velikadu Krishnamoorthy"
   ]
  },
  {
   "cell_type": "code",
   "execution_count": 1,
   "id": "2072d6cb",
   "metadata": {},
   "outputs": [],
   "source": [
    "# Importing the Required libraries \n",
    "import pandas as pd\n",
    "import numpy as np\n",
    "import os\n",
    "from textblob import TextBlob\n",
    "from vaderSentiment.vaderSentiment import SentimentIntensityAnalyzer\n",
    "import unicodedata\n",
    "import sys\n",
    "import re\n"
   ]
  },
  {
   "cell_type": "code",
   "execution_count": 2,
   "id": "292991d6",
   "metadata": {},
   "outputs": [],
   "source": [
    "# Setting global options for the notebook such as maxrows\n",
    "pd.set_option('display.max_columns', 50)\n",
    "pd.set_option('display.max_colwidth', None)\n",
    "pd.set_option(\"display.max_rows\", 50)\n",
    "import warnings\n",
    "warnings.filterwarnings('ignore')"
   ]
  },
  {
   "cell_type": "markdown",
   "id": "ab97eeea",
   "metadata": {},
   "source": [
    "### 1. Get the stemmed data using the same process you did in Week 3."
   ]
  },
  {
   "cell_type": "code",
   "execution_count": 3,
   "id": "39025b95",
   "metadata": {},
   "outputs": [
    {
     "data": {
      "text/html": [
       "<div>\n",
       "<style scoped>\n",
       "    .dataframe tbody tr th:only-of-type {\n",
       "        vertical-align: middle;\n",
       "    }\n",
       "\n",
       "    .dataframe tbody tr th {\n",
       "        vertical-align: top;\n",
       "    }\n",
       "\n",
       "    .dataframe thead th {\n",
       "        text-align: right;\n",
       "    }\n",
       "</style>\n",
       "<table border=\"1\" class=\"dataframe\">\n",
       "  <thead>\n",
       "    <tr style=\"text-align: right;\">\n",
       "      <th></th>\n",
       "      <th>id</th>\n",
       "      <th>sentiment</th>\n",
       "      <th>stemmer_review</th>\n",
       "    </tr>\n",
       "  </thead>\n",
       "  <tbody>\n",
       "    <tr>\n",
       "      <th>0</th>\n",
       "      <td>5814_8</td>\n",
       "      <td>1</td>\n",
       "      <td>stuff go moment mj ive start listen music watch odd documentari watch wiz watch moonwalk mayb want get certain insight guy thought realli cool eighti mayb make mind whether guilti innoc moonwalk part biographi part featur film rememb go see cinema origin releas subtl messag mj feel toward press also obviou messag drug bad mkayvisu impress cours michael jackson unless remot like mj anyway go hate find bore may call mj egotist consent make movi mj fan would say made fan true realli nice himth actual featur film bit final start 20 minut exclud smooth crimin sequenc joe pesci convinc psychopath power drug lord want mj dead bad beyond mj overheard plan nah joe pesci charact rant want peopl know suppli drug etc dunno mayb hate mj musiclot cool thing like mj turn car robot whole speed demon sequenc also director must patienc saint came film kiddi bad sequenc usual director hate work one kid let alon whole bunch perform complex danc scenebottom line movi peopl like mj one level anoth think peopl stay away tri give wholesom messag iron mj bestest buddi movi girl michael jackson truli one talent peopl ever grace planet guilti well attent ive gave subjecthmmm well dont know peopl differ behind close door know fact either extrem nice stupid guy one sickest liar hope latter</td>\n",
       "    </tr>\n",
       "    <tr>\n",
       "      <th>1</th>\n",
       "      <td>2381_9</td>\n",
       "      <td>1</td>\n",
       "      <td>classic war world timothi hine entertain film obvious goe great effort length faith recreat h g well classic book mr hine succe watch film appreci fact standard predict hollywood fare come everi year eg spielberg version tom cruis slightest resembl book obvious everyon look differ thing movi envis amateur critic look critic everyth other rate movi import baseslik entertain peopl never agre critic enjoy effort mr hine put faith hg well classic novel found entertain made easi overlook critic perceiv shortcom</td>\n",
       "    </tr>\n",
       "    <tr>\n",
       "      <th>2</th>\n",
       "      <td>7759_3</td>\n",
       "      <td>0</td>\n",
       "      <td>film start manag nichola bell give welcom investor robert carradin primal park secret project mutat primal anim use fossil dna like ¨jurassik park¨ scientist resurrect one natur fearsom predat sabretooth tiger smilodon scientif ambit turn deadli howev high voltag fenc open creatur escap begin savag stalk prey human visitor tourist scientificmeanwhil youngster enter restrict area secur center attack pack larg prehistor anim deadlier bigger addit secur agent staci haiduk mate brian wimmer fight hardli carnivor smilodon sabretooth cours real star star astound terrifyingli though convinc giant anim savag stalk prey group run afoul fight one natur fearsom predat furthermor third sabretooth danger slow stalk victimsth movi deliv good lot blood gore behead hairrais chillsful scare sabretooth appear mediocr special effectsth stori provid excit stir entertain result quit bore giant anim major made comput gener seem total lousi middl perform though player react appropri becom foodactor give vigor physic perform dodg beast runningbound leap dangl wall pack ridicul final deadli scene small kid realisticgori violent attack scene film sabretooth smilodon follow ¨sabretooth2002¨bi jame r hickox vanessa angel david keith john rhi davi much better ¨10000 bc2006¨ roland emmerich steven strait cliff curti camilla bell motion pictur fill bloodi moment badli direct georg miller origin take mani element previou film miller australian director usual work televis tidal wave journey center earth mani other occasion cinema man snowi river zeu roxannerobinson cruso rate averag bottom barrel</td>\n",
       "    </tr>\n",
       "  </tbody>\n",
       "</table>\n",
       "</div>"
      ],
      "text/plain": [
       "       id  sentiment  \\\n",
       "0  5814_8          1   \n",
       "1  2381_9          1   \n",
       "2  7759_3          0   \n",
       "\n",
       "                                                                                                                                                                                                                                                                                                                                                                                                                                                                                                                                                                                                                                                                                                                                                                                                                                                                                                                                                                                                                                                                                                                                                                                                                                                                                                                                                                                                                                                                                                                                                                                                                                            stemmer_review  \n",
       "0                                                                                                                                                                                                                                                                                                                        stuff go moment mj ive start listen music watch odd documentari watch wiz watch moonwalk mayb want get certain insight guy thought realli cool eighti mayb make mind whether guilti innoc moonwalk part biographi part featur film rememb go see cinema origin releas subtl messag mj feel toward press also obviou messag drug bad mkayvisu impress cours michael jackson unless remot like mj anyway go hate find bore may call mj egotist consent make movi mj fan would say made fan true realli nice himth actual featur film bit final start 20 minut exclud smooth crimin sequenc joe pesci convinc psychopath power drug lord want mj dead bad beyond mj overheard plan nah joe pesci charact rant want peopl know suppli drug etc dunno mayb hate mj musiclot cool thing like mj turn car robot whole speed demon sequenc also director must patienc saint came film kiddi bad sequenc usual director hate work one kid let alon whole bunch perform complex danc scenebottom line movi peopl like mj one level anoth think peopl stay away tri give wholesom messag iron mj bestest buddi movi girl michael jackson truli one talent peopl ever grace planet guilti well attent ive gave subjecthmmm well dont know peopl differ behind close door know fact either extrem nice stupid guy one sickest liar hope latter  \n",
       "1                                                                                                                                                                                                                                                                                                                                                                                                                                                                                                                                                                                                                                                                                                                                                                                                                                                                                                                                                                                                                                                                                                                          classic war world timothi hine entertain film obvious goe great effort length faith recreat h g well classic book mr hine succe watch film appreci fact standard predict hollywood fare come everi year eg spielberg version tom cruis slightest resembl book obvious everyon look differ thing movi envis amateur critic look critic everyth other rate movi import baseslik entertain peopl never agre critic enjoy effort mr hine put faith hg well classic novel found entertain made easi overlook critic perceiv shortcom  \n",
       "2   film start manag nichola bell give welcom investor robert carradin primal park secret project mutat primal anim use fossil dna like ¨jurassik park¨ scientist resurrect one natur fearsom predat sabretooth tiger smilodon scientif ambit turn deadli howev high voltag fenc open creatur escap begin savag stalk prey human visitor tourist scientificmeanwhil youngster enter restrict area secur center attack pack larg prehistor anim deadlier bigger addit secur agent staci haiduk mate brian wimmer fight hardli carnivor smilodon sabretooth cours real star star astound terrifyingli though convinc giant anim savag stalk prey group run afoul fight one natur fearsom predat furthermor third sabretooth danger slow stalk victimsth movi deliv good lot blood gore behead hairrais chillsful scare sabretooth appear mediocr special effectsth stori provid excit stir entertain result quit bore giant anim major made comput gener seem total lousi middl perform though player react appropri becom foodactor give vigor physic perform dodg beast runningbound leap dangl wall pack ridicul final deadli scene small kid realisticgori violent attack scene film sabretooth smilodon follow ¨sabretooth2002¨bi jame r hickox vanessa angel david keith john rhi davi much better ¨10000 bc2006¨ roland emmerich steven strait cliff curti camilla bell motion pictur fill bloodi moment badli direct georg miller origin take mani element previou film miller australian director usual work televis tidal wave journey center earth mani other occasion cinema man snowi river zeu roxannerobinson cruso rate averag bottom barrel  "
      ]
     },
     "execution_count": 3,
     "metadata": {},
     "output_type": "execute_result"
    }
   ],
   "source": [
    "# Importing the Dataset with stemmed words from week 3 Assignment\n",
    "path=os.getcwd()\n",
    "# Assigning a path for the file where the dataset from week3 assignment is saved.\n",
    "movie_review_file_path=path+\"\\\\movie_review_df2_from_week3.csv\"\n",
    "# creating a dataframe for the Movie Review dataset with stemmed words\n",
    "movie_review_stemmed_df=pd.read_csv(movie_review_file_path)\n",
    "# Taking a copy of the dataframe\n",
    "movie_review_df2=movie_review_stemmed_df.copy()\n",
    "# Printing  the top 3 rows from stemmed dataset\n",
    "movie_review_df2.head(3)\n"
   ]
  },
  {
   "cell_type": "code",
   "execution_count": 4,
   "id": "76d50f83",
   "metadata": {},
   "outputs": [
    {
     "data": {
      "text/plain": [
       "(25000, 3)"
      ]
     },
     "execution_count": 4,
     "metadata": {},
     "output_type": "execute_result"
    }
   ],
   "source": [
    "# Printing  the shape of the stmmed dataset, indicating it has 25000 rows and 3 columns\n",
    "movie_review_df2.shape"
   ]
  },
  {
   "cell_type": "markdown",
   "id": "648e4fb9",
   "metadata": {},
   "source": [
    "### 2. Split this into a training and test set."
   ]
  },
  {
   "cell_type": "code",
   "execution_count": 5,
   "id": "d853ea02",
   "metadata": {},
   "outputs": [],
   "source": [
    "# Importing the Train test library from sklearn\n",
    "from sklearn.model_selection import train_test_split\n",
    "# Assigning the Features as the stemmed review column\n",
    "features=movie_review_df2['stemmer_review']\n",
    "# Assigning the Target as the sentiment column\n",
    "target=movie_review_df2['sentiment']"
   ]
  },
  {
   "cell_type": "code",
   "execution_count": 6,
   "id": "ed583154",
   "metadata": {},
   "outputs": [],
   "source": [
    "# Spliting the Stemmed movie review dataset into 80:20 split of training:test data\n",
    "features_train, features_test, target_train, target_test = train_test_split(features, target, test_size=0.2, random_state=0)"
   ]
  },
  {
   "cell_type": "code",
   "execution_count": 7,
   "id": "8eda4384",
   "metadata": {},
   "outputs": [
    {
     "name": "stdout",
     "output_type": "stream",
     "text": [
      "\n",
      "No of records in the Dataset: 25000\n",
      "No of records in the Training Dataset: 20000\n",
      "No of records in the Test Dataset: 5000\n",
      "\n"
     ]
    }
   ],
   "source": [
    "# Printing the size of the features, taining dataset and test dataset\n",
    "print(f\"\"\"\n",
    "No of records in the Dataset: {features.shape[0]}\n",
    "No of records in the Training Dataset: {features_train.shape[0]}\n",
    "No of records in the Test Dataset: {features_test.shape[0]}\n",
    "\"\"\")"
   ]
  },
  {
   "cell_type": "markdown",
   "id": "c4b7e3f4",
   "metadata": {},
   "source": [
    "### 3. Fit and apply the tf-idf vectorization to the training set."
   ]
  },
  {
   "cell_type": "code",
   "execution_count": 8,
   "id": "036bd874",
   "metadata": {},
   "outputs": [],
   "source": [
    "# Loading library required to create tf idf object\n",
    "from sklearn.feature_extraction.text import TfidfVectorizer\n",
    "# Creating a tf-idf object with parameters to remove the terms that occur infrequently \n",
    "tfidf = TfidfVectorizer(min_df = 10, token_pattern = r'[a-zA-Z]+')"
   ]
  },
  {
   "cell_type": "code",
   "execution_count": 9,
   "id": "59ef03e4",
   "metadata": {},
   "outputs": [
    {
     "data": {
      "text/plain": [
       "<20000x11849 sparse matrix of type '<class 'numpy.float64'>'\n",
       "\twith 1782844 stored elements in Compressed Sparse Row format>"
      ]
     },
     "execution_count": 9,
     "metadata": {},
     "output_type": "execute_result"
    }
   ],
   "source": [
    "# Creating a corpus of training dataset\n",
    "corpus=features_train\n",
    "# Training and transforming the corpus and creating a sparse matrix\n",
    "training_matrix=tfidf.fit_transform(corpus)\n",
    "training_matrix"
   ]
  },
  {
   "cell_type": "code",
   "execution_count": 10,
   "id": "d71f6cd8",
   "metadata": {},
   "outputs": [],
   "source": [
    "# Creating a list of all unique words in the matrix\n",
    "col_names=tfidf.get_feature_names()"
   ]
  },
  {
   "cell_type": "code",
   "execution_count": 11,
   "id": "58402a98",
   "metadata": {},
   "outputs": [
    {
     "data": {
      "text/html": [
       "<div>\n",
       "<style scoped>\n",
       "    .dataframe tbody tr th:only-of-type {\n",
       "        vertical-align: middle;\n",
       "    }\n",
       "\n",
       "    .dataframe tbody tr th {\n",
       "        vertical-align: top;\n",
       "    }\n",
       "\n",
       "    .dataframe thead th {\n",
       "        text-align: right;\n",
       "    }\n",
       "</style>\n",
       "<table border=\"1\" class=\"dataframe\">\n",
       "  <thead>\n",
       "    <tr style=\"text-align: right;\">\n",
       "      <th></th>\n",
       "      <th>a</th>\n",
       "      <th>aag</th>\n",
       "      <th>aam</th>\n",
       "      <th>aaron</th>\n",
       "      <th>ab</th>\n",
       "      <th>abandon</th>\n",
       "      <th>abbot</th>\n",
       "      <th>abbott</th>\n",
       "      <th>abc</th>\n",
       "      <th>abduct</th>\n",
       "      <th>abe</th>\n",
       "      <th>abet</th>\n",
       "      <th>abhay</th>\n",
       "      <th>abhorr</th>\n",
       "      <th>abid</th>\n",
       "      <th>abil</th>\n",
       "      <th>abl</th>\n",
       "      <th>abli</th>\n",
       "      <th>abnorm</th>\n",
       "      <th>aboard</th>\n",
       "      <th>abomin</th>\n",
       "      <th>aborigin</th>\n",
       "      <th>abort</th>\n",
       "      <th>abound</th>\n",
       "      <th>aboutth</th>\n",
       "      <th>...</th>\n",
       "      <th>zap</th>\n",
       "      <th>zealand</th>\n",
       "      <th>zealot</th>\n",
       "      <th>zelah</th>\n",
       "      <th>zelda</th>\n",
       "      <th>zen</th>\n",
       "      <th>zentropa</th>\n",
       "      <th>zero</th>\n",
       "      <th>zest</th>\n",
       "      <th>zeta</th>\n",
       "      <th>zetajon</th>\n",
       "      <th>zhang</th>\n",
       "      <th>zillion</th>\n",
       "      <th>zimmer</th>\n",
       "      <th>zip</th>\n",
       "      <th>zizek</th>\n",
       "      <th>zodiac</th>\n",
       "      <th>zoe</th>\n",
       "      <th>zombi</th>\n",
       "      <th>zone</th>\n",
       "      <th>zoo</th>\n",
       "      <th>zoom</th>\n",
       "      <th>zorro</th>\n",
       "      <th>zu</th>\n",
       "      <th>zuniga</th>\n",
       "    </tr>\n",
       "  </thead>\n",
       "  <tbody>\n",
       "    <tr>\n",
       "      <th>0</th>\n",
       "      <td>0.0</td>\n",
       "      <td>0.0</td>\n",
       "      <td>0.0</td>\n",
       "      <td>0.0</td>\n",
       "      <td>0.0</td>\n",
       "      <td>0.0</td>\n",
       "      <td>0.0</td>\n",
       "      <td>0.0</td>\n",
       "      <td>0.0</td>\n",
       "      <td>0.0</td>\n",
       "      <td>0.0</td>\n",
       "      <td>0.0</td>\n",
       "      <td>0.0</td>\n",
       "      <td>0.0</td>\n",
       "      <td>0.0</td>\n",
       "      <td>0.0</td>\n",
       "      <td>0.000000</td>\n",
       "      <td>0.0</td>\n",
       "      <td>0.0</td>\n",
       "      <td>0.0</td>\n",
       "      <td>0.0</td>\n",
       "      <td>0.0</td>\n",
       "      <td>0.0</td>\n",
       "      <td>0.0</td>\n",
       "      <td>0.0</td>\n",
       "      <td>...</td>\n",
       "      <td>0.0</td>\n",
       "      <td>0.0</td>\n",
       "      <td>0.0</td>\n",
       "      <td>0.0</td>\n",
       "      <td>0.0</td>\n",
       "      <td>0.0</td>\n",
       "      <td>0.0</td>\n",
       "      <td>0.0</td>\n",
       "      <td>0.0</td>\n",
       "      <td>0.0</td>\n",
       "      <td>0.000000</td>\n",
       "      <td>0.0</td>\n",
       "      <td>0.0</td>\n",
       "      <td>0.0</td>\n",
       "      <td>0.0</td>\n",
       "      <td>0.0</td>\n",
       "      <td>0.0</td>\n",
       "      <td>0.0</td>\n",
       "      <td>0.0</td>\n",
       "      <td>0.0</td>\n",
       "      <td>0.0</td>\n",
       "      <td>0.0</td>\n",
       "      <td>0.0</td>\n",
       "      <td>0.0</td>\n",
       "      <td>0.0</td>\n",
       "    </tr>\n",
       "    <tr>\n",
       "      <th>1</th>\n",
       "      <td>0.0</td>\n",
       "      <td>0.0</td>\n",
       "      <td>0.0</td>\n",
       "      <td>0.0</td>\n",
       "      <td>0.0</td>\n",
       "      <td>0.0</td>\n",
       "      <td>0.0</td>\n",
       "      <td>0.0</td>\n",
       "      <td>0.0</td>\n",
       "      <td>0.0</td>\n",
       "      <td>0.0</td>\n",
       "      <td>0.0</td>\n",
       "      <td>0.0</td>\n",
       "      <td>0.0</td>\n",
       "      <td>0.0</td>\n",
       "      <td>0.0</td>\n",
       "      <td>0.000000</td>\n",
       "      <td>0.0</td>\n",
       "      <td>0.0</td>\n",
       "      <td>0.0</td>\n",
       "      <td>0.0</td>\n",
       "      <td>0.0</td>\n",
       "      <td>0.0</td>\n",
       "      <td>0.0</td>\n",
       "      <td>0.0</td>\n",
       "      <td>...</td>\n",
       "      <td>0.0</td>\n",
       "      <td>0.0</td>\n",
       "      <td>0.0</td>\n",
       "      <td>0.0</td>\n",
       "      <td>0.0</td>\n",
       "      <td>0.0</td>\n",
       "      <td>0.0</td>\n",
       "      <td>0.0</td>\n",
       "      <td>0.0</td>\n",
       "      <td>0.0</td>\n",
       "      <td>0.000000</td>\n",
       "      <td>0.0</td>\n",
       "      <td>0.0</td>\n",
       "      <td>0.0</td>\n",
       "      <td>0.0</td>\n",
       "      <td>0.0</td>\n",
       "      <td>0.0</td>\n",
       "      <td>0.0</td>\n",
       "      <td>0.0</td>\n",
       "      <td>0.0</td>\n",
       "      <td>0.0</td>\n",
       "      <td>0.0</td>\n",
       "      <td>0.0</td>\n",
       "      <td>0.0</td>\n",
       "      <td>0.0</td>\n",
       "    </tr>\n",
       "    <tr>\n",
       "      <th>2</th>\n",
       "      <td>0.0</td>\n",
       "      <td>0.0</td>\n",
       "      <td>0.0</td>\n",
       "      <td>0.0</td>\n",
       "      <td>0.0</td>\n",
       "      <td>0.0</td>\n",
       "      <td>0.0</td>\n",
       "      <td>0.0</td>\n",
       "      <td>0.0</td>\n",
       "      <td>0.0</td>\n",
       "      <td>0.0</td>\n",
       "      <td>0.0</td>\n",
       "      <td>0.0</td>\n",
       "      <td>0.0</td>\n",
       "      <td>0.0</td>\n",
       "      <td>0.0</td>\n",
       "      <td>0.000000</td>\n",
       "      <td>0.0</td>\n",
       "      <td>0.0</td>\n",
       "      <td>0.0</td>\n",
       "      <td>0.0</td>\n",
       "      <td>0.0</td>\n",
       "      <td>0.0</td>\n",
       "      <td>0.0</td>\n",
       "      <td>0.0</td>\n",
       "      <td>...</td>\n",
       "      <td>0.0</td>\n",
       "      <td>0.0</td>\n",
       "      <td>0.0</td>\n",
       "      <td>0.0</td>\n",
       "      <td>0.0</td>\n",
       "      <td>0.0</td>\n",
       "      <td>0.0</td>\n",
       "      <td>0.0</td>\n",
       "      <td>0.0</td>\n",
       "      <td>0.0</td>\n",
       "      <td>0.000000</td>\n",
       "      <td>0.0</td>\n",
       "      <td>0.0</td>\n",
       "      <td>0.0</td>\n",
       "      <td>0.0</td>\n",
       "      <td>0.0</td>\n",
       "      <td>0.0</td>\n",
       "      <td>0.0</td>\n",
       "      <td>0.0</td>\n",
       "      <td>0.0</td>\n",
       "      <td>0.0</td>\n",
       "      <td>0.0</td>\n",
       "      <td>0.0</td>\n",
       "      <td>0.0</td>\n",
       "      <td>0.0</td>\n",
       "    </tr>\n",
       "    <tr>\n",
       "      <th>3</th>\n",
       "      <td>0.0</td>\n",
       "      <td>0.0</td>\n",
       "      <td>0.0</td>\n",
       "      <td>0.0</td>\n",
       "      <td>0.0</td>\n",
       "      <td>0.0</td>\n",
       "      <td>0.0</td>\n",
       "      <td>0.0</td>\n",
       "      <td>0.0</td>\n",
       "      <td>0.0</td>\n",
       "      <td>0.0</td>\n",
       "      <td>0.0</td>\n",
       "      <td>0.0</td>\n",
       "      <td>0.0</td>\n",
       "      <td>0.0</td>\n",
       "      <td>0.0</td>\n",
       "      <td>0.000000</td>\n",
       "      <td>0.0</td>\n",
       "      <td>0.0</td>\n",
       "      <td>0.0</td>\n",
       "      <td>0.0</td>\n",
       "      <td>0.0</td>\n",
       "      <td>0.0</td>\n",
       "      <td>0.0</td>\n",
       "      <td>0.0</td>\n",
       "      <td>...</td>\n",
       "      <td>0.0</td>\n",
       "      <td>0.0</td>\n",
       "      <td>0.0</td>\n",
       "      <td>0.0</td>\n",
       "      <td>0.0</td>\n",
       "      <td>0.0</td>\n",
       "      <td>0.0</td>\n",
       "      <td>0.0</td>\n",
       "      <td>0.0</td>\n",
       "      <td>0.0</td>\n",
       "      <td>0.000000</td>\n",
       "      <td>0.0</td>\n",
       "      <td>0.0</td>\n",
       "      <td>0.0</td>\n",
       "      <td>0.0</td>\n",
       "      <td>0.0</td>\n",
       "      <td>0.0</td>\n",
       "      <td>0.0</td>\n",
       "      <td>0.0</td>\n",
       "      <td>0.0</td>\n",
       "      <td>0.0</td>\n",
       "      <td>0.0</td>\n",
       "      <td>0.0</td>\n",
       "      <td>0.0</td>\n",
       "      <td>0.0</td>\n",
       "    </tr>\n",
       "    <tr>\n",
       "      <th>4</th>\n",
       "      <td>0.0</td>\n",
       "      <td>0.0</td>\n",
       "      <td>0.0</td>\n",
       "      <td>0.0</td>\n",
       "      <td>0.0</td>\n",
       "      <td>0.0</td>\n",
       "      <td>0.0</td>\n",
       "      <td>0.0</td>\n",
       "      <td>0.0</td>\n",
       "      <td>0.0</td>\n",
       "      <td>0.0</td>\n",
       "      <td>0.0</td>\n",
       "      <td>0.0</td>\n",
       "      <td>0.0</td>\n",
       "      <td>0.0</td>\n",
       "      <td>0.0</td>\n",
       "      <td>0.000000</td>\n",
       "      <td>0.0</td>\n",
       "      <td>0.0</td>\n",
       "      <td>0.0</td>\n",
       "      <td>0.0</td>\n",
       "      <td>0.0</td>\n",
       "      <td>0.0</td>\n",
       "      <td>0.0</td>\n",
       "      <td>0.0</td>\n",
       "      <td>...</td>\n",
       "      <td>0.0</td>\n",
       "      <td>0.0</td>\n",
       "      <td>0.0</td>\n",
       "      <td>0.0</td>\n",
       "      <td>0.0</td>\n",
       "      <td>0.0</td>\n",
       "      <td>0.0</td>\n",
       "      <td>0.0</td>\n",
       "      <td>0.0</td>\n",
       "      <td>0.0</td>\n",
       "      <td>0.000000</td>\n",
       "      <td>0.0</td>\n",
       "      <td>0.0</td>\n",
       "      <td>0.0</td>\n",
       "      <td>0.0</td>\n",
       "      <td>0.0</td>\n",
       "      <td>0.0</td>\n",
       "      <td>0.0</td>\n",
       "      <td>0.0</td>\n",
       "      <td>0.0</td>\n",
       "      <td>0.0</td>\n",
       "      <td>0.0</td>\n",
       "      <td>0.0</td>\n",
       "      <td>0.0</td>\n",
       "      <td>0.0</td>\n",
       "    </tr>\n",
       "    <tr>\n",
       "      <th>...</th>\n",
       "      <td>...</td>\n",
       "      <td>...</td>\n",
       "      <td>...</td>\n",
       "      <td>...</td>\n",
       "      <td>...</td>\n",
       "      <td>...</td>\n",
       "      <td>...</td>\n",
       "      <td>...</td>\n",
       "      <td>...</td>\n",
       "      <td>...</td>\n",
       "      <td>...</td>\n",
       "      <td>...</td>\n",
       "      <td>...</td>\n",
       "      <td>...</td>\n",
       "      <td>...</td>\n",
       "      <td>...</td>\n",
       "      <td>...</td>\n",
       "      <td>...</td>\n",
       "      <td>...</td>\n",
       "      <td>...</td>\n",
       "      <td>...</td>\n",
       "      <td>...</td>\n",
       "      <td>...</td>\n",
       "      <td>...</td>\n",
       "      <td>...</td>\n",
       "      <td>...</td>\n",
       "      <td>...</td>\n",
       "      <td>...</td>\n",
       "      <td>...</td>\n",
       "      <td>...</td>\n",
       "      <td>...</td>\n",
       "      <td>...</td>\n",
       "      <td>...</td>\n",
       "      <td>...</td>\n",
       "      <td>...</td>\n",
       "      <td>...</td>\n",
       "      <td>...</td>\n",
       "      <td>...</td>\n",
       "      <td>...</td>\n",
       "      <td>...</td>\n",
       "      <td>...</td>\n",
       "      <td>...</td>\n",
       "      <td>...</td>\n",
       "      <td>...</td>\n",
       "      <td>...</td>\n",
       "      <td>...</td>\n",
       "      <td>...</td>\n",
       "      <td>...</td>\n",
       "      <td>...</td>\n",
       "      <td>...</td>\n",
       "      <td>...</td>\n",
       "    </tr>\n",
       "    <tr>\n",
       "      <th>19995</th>\n",
       "      <td>0.0</td>\n",
       "      <td>0.0</td>\n",
       "      <td>0.0</td>\n",
       "      <td>0.0</td>\n",
       "      <td>0.0</td>\n",
       "      <td>0.0</td>\n",
       "      <td>0.0</td>\n",
       "      <td>0.0</td>\n",
       "      <td>0.0</td>\n",
       "      <td>0.0</td>\n",
       "      <td>0.0</td>\n",
       "      <td>0.0</td>\n",
       "      <td>0.0</td>\n",
       "      <td>0.0</td>\n",
       "      <td>0.0</td>\n",
       "      <td>0.0</td>\n",
       "      <td>0.032104</td>\n",
       "      <td>0.0</td>\n",
       "      <td>0.0</td>\n",
       "      <td>0.0</td>\n",
       "      <td>0.0</td>\n",
       "      <td>0.0</td>\n",
       "      <td>0.0</td>\n",
       "      <td>0.0</td>\n",
       "      <td>0.0</td>\n",
       "      <td>...</td>\n",
       "      <td>0.0</td>\n",
       "      <td>0.0</td>\n",
       "      <td>0.0</td>\n",
       "      <td>0.0</td>\n",
       "      <td>0.0</td>\n",
       "      <td>0.0</td>\n",
       "      <td>0.0</td>\n",
       "      <td>0.0</td>\n",
       "      <td>0.0</td>\n",
       "      <td>0.0</td>\n",
       "      <td>0.000000</td>\n",
       "      <td>0.0</td>\n",
       "      <td>0.0</td>\n",
       "      <td>0.0</td>\n",
       "      <td>0.0</td>\n",
       "      <td>0.0</td>\n",
       "      <td>0.0</td>\n",
       "      <td>0.0</td>\n",
       "      <td>0.0</td>\n",
       "      <td>0.0</td>\n",
       "      <td>0.0</td>\n",
       "      <td>0.0</td>\n",
       "      <td>0.0</td>\n",
       "      <td>0.0</td>\n",
       "      <td>0.0</td>\n",
       "    </tr>\n",
       "    <tr>\n",
       "      <th>19996</th>\n",
       "      <td>0.0</td>\n",
       "      <td>0.0</td>\n",
       "      <td>0.0</td>\n",
       "      <td>0.0</td>\n",
       "      <td>0.0</td>\n",
       "      <td>0.0</td>\n",
       "      <td>0.0</td>\n",
       "      <td>0.0</td>\n",
       "      <td>0.0</td>\n",
       "      <td>0.0</td>\n",
       "      <td>0.0</td>\n",
       "      <td>0.0</td>\n",
       "      <td>0.0</td>\n",
       "      <td>0.0</td>\n",
       "      <td>0.0</td>\n",
       "      <td>0.0</td>\n",
       "      <td>0.000000</td>\n",
       "      <td>0.0</td>\n",
       "      <td>0.0</td>\n",
       "      <td>0.0</td>\n",
       "      <td>0.0</td>\n",
       "      <td>0.0</td>\n",
       "      <td>0.0</td>\n",
       "      <td>0.0</td>\n",
       "      <td>0.0</td>\n",
       "      <td>...</td>\n",
       "      <td>0.0</td>\n",
       "      <td>0.0</td>\n",
       "      <td>0.0</td>\n",
       "      <td>0.0</td>\n",
       "      <td>0.0</td>\n",
       "      <td>0.0</td>\n",
       "      <td>0.0</td>\n",
       "      <td>0.0</td>\n",
       "      <td>0.0</td>\n",
       "      <td>0.0</td>\n",
       "      <td>0.000000</td>\n",
       "      <td>0.0</td>\n",
       "      <td>0.0</td>\n",
       "      <td>0.0</td>\n",
       "      <td>0.0</td>\n",
       "      <td>0.0</td>\n",
       "      <td>0.0</td>\n",
       "      <td>0.0</td>\n",
       "      <td>0.0</td>\n",
       "      <td>0.0</td>\n",
       "      <td>0.0</td>\n",
       "      <td>0.0</td>\n",
       "      <td>0.0</td>\n",
       "      <td>0.0</td>\n",
       "      <td>0.0</td>\n",
       "    </tr>\n",
       "    <tr>\n",
       "      <th>19997</th>\n",
       "      <td>0.0</td>\n",
       "      <td>0.0</td>\n",
       "      <td>0.0</td>\n",
       "      <td>0.0</td>\n",
       "      <td>0.0</td>\n",
       "      <td>0.0</td>\n",
       "      <td>0.0</td>\n",
       "      <td>0.0</td>\n",
       "      <td>0.0</td>\n",
       "      <td>0.0</td>\n",
       "      <td>0.0</td>\n",
       "      <td>0.0</td>\n",
       "      <td>0.0</td>\n",
       "      <td>0.0</td>\n",
       "      <td>0.0</td>\n",
       "      <td>0.0</td>\n",
       "      <td>0.000000</td>\n",
       "      <td>0.0</td>\n",
       "      <td>0.0</td>\n",
       "      <td>0.0</td>\n",
       "      <td>0.0</td>\n",
       "      <td>0.0</td>\n",
       "      <td>0.0</td>\n",
       "      <td>0.0</td>\n",
       "      <td>0.0</td>\n",
       "      <td>...</td>\n",
       "      <td>0.0</td>\n",
       "      <td>0.0</td>\n",
       "      <td>0.0</td>\n",
       "      <td>0.0</td>\n",
       "      <td>0.0</td>\n",
       "      <td>0.0</td>\n",
       "      <td>0.0</td>\n",
       "      <td>0.0</td>\n",
       "      <td>0.0</td>\n",
       "      <td>0.0</td>\n",
       "      <td>0.000000</td>\n",
       "      <td>0.0</td>\n",
       "      <td>0.0</td>\n",
       "      <td>0.0</td>\n",
       "      <td>0.0</td>\n",
       "      <td>0.0</td>\n",
       "      <td>0.0</td>\n",
       "      <td>0.0</td>\n",
       "      <td>0.0</td>\n",
       "      <td>0.0</td>\n",
       "      <td>0.0</td>\n",
       "      <td>0.0</td>\n",
       "      <td>0.0</td>\n",
       "      <td>0.0</td>\n",
       "      <td>0.0</td>\n",
       "    </tr>\n",
       "    <tr>\n",
       "      <th>19998</th>\n",
       "      <td>0.0</td>\n",
       "      <td>0.0</td>\n",
       "      <td>0.0</td>\n",
       "      <td>0.0</td>\n",
       "      <td>0.0</td>\n",
       "      <td>0.0</td>\n",
       "      <td>0.0</td>\n",
       "      <td>0.0</td>\n",
       "      <td>0.0</td>\n",
       "      <td>0.0</td>\n",
       "      <td>0.0</td>\n",
       "      <td>0.0</td>\n",
       "      <td>0.0</td>\n",
       "      <td>0.0</td>\n",
       "      <td>0.0</td>\n",
       "      <td>0.0</td>\n",
       "      <td>0.000000</td>\n",
       "      <td>0.0</td>\n",
       "      <td>0.0</td>\n",
       "      <td>0.0</td>\n",
       "      <td>0.0</td>\n",
       "      <td>0.0</td>\n",
       "      <td>0.0</td>\n",
       "      <td>0.0</td>\n",
       "      <td>0.0</td>\n",
       "      <td>...</td>\n",
       "      <td>0.0</td>\n",
       "      <td>0.0</td>\n",
       "      <td>0.0</td>\n",
       "      <td>0.0</td>\n",
       "      <td>0.0</td>\n",
       "      <td>0.0</td>\n",
       "      <td>0.0</td>\n",
       "      <td>0.0</td>\n",
       "      <td>0.0</td>\n",
       "      <td>0.0</td>\n",
       "      <td>0.144841</td>\n",
       "      <td>0.0</td>\n",
       "      <td>0.0</td>\n",
       "      <td>0.0</td>\n",
       "      <td>0.0</td>\n",
       "      <td>0.0</td>\n",
       "      <td>0.0</td>\n",
       "      <td>0.0</td>\n",
       "      <td>0.0</td>\n",
       "      <td>0.0</td>\n",
       "      <td>0.0</td>\n",
       "      <td>0.0</td>\n",
       "      <td>0.0</td>\n",
       "      <td>0.0</td>\n",
       "      <td>0.0</td>\n",
       "    </tr>\n",
       "    <tr>\n",
       "      <th>19999</th>\n",
       "      <td>0.0</td>\n",
       "      <td>0.0</td>\n",
       "      <td>0.0</td>\n",
       "      <td>0.0</td>\n",
       "      <td>0.0</td>\n",
       "      <td>0.0</td>\n",
       "      <td>0.0</td>\n",
       "      <td>0.0</td>\n",
       "      <td>0.0</td>\n",
       "      <td>0.0</td>\n",
       "      <td>0.0</td>\n",
       "      <td>0.0</td>\n",
       "      <td>0.0</td>\n",
       "      <td>0.0</td>\n",
       "      <td>0.0</td>\n",
       "      <td>0.0</td>\n",
       "      <td>0.000000</td>\n",
       "      <td>0.0</td>\n",
       "      <td>0.0</td>\n",
       "      <td>0.0</td>\n",
       "      <td>0.0</td>\n",
       "      <td>0.0</td>\n",
       "      <td>0.0</td>\n",
       "      <td>0.0</td>\n",
       "      <td>0.0</td>\n",
       "      <td>...</td>\n",
       "      <td>0.0</td>\n",
       "      <td>0.0</td>\n",
       "      <td>0.0</td>\n",
       "      <td>0.0</td>\n",
       "      <td>0.0</td>\n",
       "      <td>0.0</td>\n",
       "      <td>0.0</td>\n",
       "      <td>0.0</td>\n",
       "      <td>0.0</td>\n",
       "      <td>0.0</td>\n",
       "      <td>0.000000</td>\n",
       "      <td>0.0</td>\n",
       "      <td>0.0</td>\n",
       "      <td>0.0</td>\n",
       "      <td>0.0</td>\n",
       "      <td>0.0</td>\n",
       "      <td>0.0</td>\n",
       "      <td>0.0</td>\n",
       "      <td>0.0</td>\n",
       "      <td>0.0</td>\n",
       "      <td>0.0</td>\n",
       "      <td>0.0</td>\n",
       "      <td>0.0</td>\n",
       "      <td>0.0</td>\n",
       "      <td>0.0</td>\n",
       "    </tr>\n",
       "  </tbody>\n",
       "</table>\n",
       "<p>20000 rows × 11849 columns</p>\n",
       "</div>"
      ],
      "text/plain": [
       "         a  aag  aam  aaron   ab  abandon  abbot  abbott  abc  abduct  abe  \\\n",
       "0      0.0  0.0  0.0    0.0  0.0      0.0    0.0     0.0  0.0     0.0  0.0   \n",
       "1      0.0  0.0  0.0    0.0  0.0      0.0    0.0     0.0  0.0     0.0  0.0   \n",
       "2      0.0  0.0  0.0    0.0  0.0      0.0    0.0     0.0  0.0     0.0  0.0   \n",
       "3      0.0  0.0  0.0    0.0  0.0      0.0    0.0     0.0  0.0     0.0  0.0   \n",
       "4      0.0  0.0  0.0    0.0  0.0      0.0    0.0     0.0  0.0     0.0  0.0   \n",
       "...    ...  ...  ...    ...  ...      ...    ...     ...  ...     ...  ...   \n",
       "19995  0.0  0.0  0.0    0.0  0.0      0.0    0.0     0.0  0.0     0.0  0.0   \n",
       "19996  0.0  0.0  0.0    0.0  0.0      0.0    0.0     0.0  0.0     0.0  0.0   \n",
       "19997  0.0  0.0  0.0    0.0  0.0      0.0    0.0     0.0  0.0     0.0  0.0   \n",
       "19998  0.0  0.0  0.0    0.0  0.0      0.0    0.0     0.0  0.0     0.0  0.0   \n",
       "19999  0.0  0.0  0.0    0.0  0.0      0.0    0.0     0.0  0.0     0.0  0.0   \n",
       "\n",
       "       abet  abhay  abhorr  abid  abil       abl  abli  abnorm  aboard  \\\n",
       "0       0.0    0.0     0.0   0.0   0.0  0.000000   0.0     0.0     0.0   \n",
       "1       0.0    0.0     0.0   0.0   0.0  0.000000   0.0     0.0     0.0   \n",
       "2       0.0    0.0     0.0   0.0   0.0  0.000000   0.0     0.0     0.0   \n",
       "3       0.0    0.0     0.0   0.0   0.0  0.000000   0.0     0.0     0.0   \n",
       "4       0.0    0.0     0.0   0.0   0.0  0.000000   0.0     0.0     0.0   \n",
       "...     ...    ...     ...   ...   ...       ...   ...     ...     ...   \n",
       "19995   0.0    0.0     0.0   0.0   0.0  0.032104   0.0     0.0     0.0   \n",
       "19996   0.0    0.0     0.0   0.0   0.0  0.000000   0.0     0.0     0.0   \n",
       "19997   0.0    0.0     0.0   0.0   0.0  0.000000   0.0     0.0     0.0   \n",
       "19998   0.0    0.0     0.0   0.0   0.0  0.000000   0.0     0.0     0.0   \n",
       "19999   0.0    0.0     0.0   0.0   0.0  0.000000   0.0     0.0     0.0   \n",
       "\n",
       "       abomin  aborigin  abort  abound  aboutth  ...  zap  zealand  zealot  \\\n",
       "0         0.0       0.0    0.0     0.0      0.0  ...  0.0      0.0     0.0   \n",
       "1         0.0       0.0    0.0     0.0      0.0  ...  0.0      0.0     0.0   \n",
       "2         0.0       0.0    0.0     0.0      0.0  ...  0.0      0.0     0.0   \n",
       "3         0.0       0.0    0.0     0.0      0.0  ...  0.0      0.0     0.0   \n",
       "4         0.0       0.0    0.0     0.0      0.0  ...  0.0      0.0     0.0   \n",
       "...       ...       ...    ...     ...      ...  ...  ...      ...     ...   \n",
       "19995     0.0       0.0    0.0     0.0      0.0  ...  0.0      0.0     0.0   \n",
       "19996     0.0       0.0    0.0     0.0      0.0  ...  0.0      0.0     0.0   \n",
       "19997     0.0       0.0    0.0     0.0      0.0  ...  0.0      0.0     0.0   \n",
       "19998     0.0       0.0    0.0     0.0      0.0  ...  0.0      0.0     0.0   \n",
       "19999     0.0       0.0    0.0     0.0      0.0  ...  0.0      0.0     0.0   \n",
       "\n",
       "       zelah  zelda  zen  zentropa  zero  zest  zeta   zetajon  zhang  \\\n",
       "0        0.0    0.0  0.0       0.0   0.0   0.0   0.0  0.000000    0.0   \n",
       "1        0.0    0.0  0.0       0.0   0.0   0.0   0.0  0.000000    0.0   \n",
       "2        0.0    0.0  0.0       0.0   0.0   0.0   0.0  0.000000    0.0   \n",
       "3        0.0    0.0  0.0       0.0   0.0   0.0   0.0  0.000000    0.0   \n",
       "4        0.0    0.0  0.0       0.0   0.0   0.0   0.0  0.000000    0.0   \n",
       "...      ...    ...  ...       ...   ...   ...   ...       ...    ...   \n",
       "19995    0.0    0.0  0.0       0.0   0.0   0.0   0.0  0.000000    0.0   \n",
       "19996    0.0    0.0  0.0       0.0   0.0   0.0   0.0  0.000000    0.0   \n",
       "19997    0.0    0.0  0.0       0.0   0.0   0.0   0.0  0.000000    0.0   \n",
       "19998    0.0    0.0  0.0       0.0   0.0   0.0   0.0  0.144841    0.0   \n",
       "19999    0.0    0.0  0.0       0.0   0.0   0.0   0.0  0.000000    0.0   \n",
       "\n",
       "       zillion  zimmer  zip  zizek  zodiac  zoe  zombi  zone  zoo  zoom  \\\n",
       "0          0.0     0.0  0.0    0.0     0.0  0.0    0.0   0.0  0.0   0.0   \n",
       "1          0.0     0.0  0.0    0.0     0.0  0.0    0.0   0.0  0.0   0.0   \n",
       "2          0.0     0.0  0.0    0.0     0.0  0.0    0.0   0.0  0.0   0.0   \n",
       "3          0.0     0.0  0.0    0.0     0.0  0.0    0.0   0.0  0.0   0.0   \n",
       "4          0.0     0.0  0.0    0.0     0.0  0.0    0.0   0.0  0.0   0.0   \n",
       "...        ...     ...  ...    ...     ...  ...    ...   ...  ...   ...   \n",
       "19995      0.0     0.0  0.0    0.0     0.0  0.0    0.0   0.0  0.0   0.0   \n",
       "19996      0.0     0.0  0.0    0.0     0.0  0.0    0.0   0.0  0.0   0.0   \n",
       "19997      0.0     0.0  0.0    0.0     0.0  0.0    0.0   0.0  0.0   0.0   \n",
       "19998      0.0     0.0  0.0    0.0     0.0  0.0    0.0   0.0  0.0   0.0   \n",
       "19999      0.0     0.0  0.0    0.0     0.0  0.0    0.0   0.0  0.0   0.0   \n",
       "\n",
       "       zorro   zu  zuniga  \n",
       "0        0.0  0.0     0.0  \n",
       "1        0.0  0.0     0.0  \n",
       "2        0.0  0.0     0.0  \n",
       "3        0.0  0.0     0.0  \n",
       "4        0.0  0.0     0.0  \n",
       "...      ...  ...     ...  \n",
       "19995    0.0  0.0     0.0  \n",
       "19996    0.0  0.0     0.0  \n",
       "19997    0.0  0.0     0.0  \n",
       "19998    0.0  0.0     0.0  \n",
       "19999    0.0  0.0     0.0  \n",
       "\n",
       "[20000 rows x 11849 columns]"
      ]
     },
     "execution_count": 11,
     "metadata": {},
     "output_type": "execute_result"
    }
   ],
   "source": [
    "# Creating a dataframe of training dataset\n",
    "training_df=pd.DataFrame(training_matrix.toarray(),columns=col_names)\n",
    "training_df"
   ]
  },
  {
   "cell_type": "markdown",
   "id": "bc51af38",
   "metadata": {},
   "source": [
    "### 4.Apply but DO NOT FIT the tf-idf vectorization to the test set (Why?)."
   ]
  },
  {
   "cell_type": "markdown",
   "id": "9cd243d7",
   "metadata": {},
   "source": [
    "#### Solution: The reason not to fit test dataset, is because the sparse matrix with the training set is already created in the previous step. We then apply that to the test data and create a sparse matrix based on the feature names obtained from the training sparse matrix and evaluatethe performance how the test data is able to predict the sentiment using a machine learning algorithm. \n",
    "#### On the contrary, if we try to \"fit\" the test data to the tfidf object, it will create a sparse matrix with a complete new list of feature names which is not intended."
   ]
  },
  {
   "cell_type": "code",
   "execution_count": 12,
   "id": "a7775c67",
   "metadata": {},
   "outputs": [
    {
     "data": {
      "text/plain": [
       "<5000x11849 sparse matrix of type '<class 'numpy.float64'>'\n",
       "\twith 437708 stored elements in Compressed Sparse Row format>"
      ]
     },
     "execution_count": 12,
     "metadata": {},
     "output_type": "execute_result"
    }
   ],
   "source": [
    "# Applying Transform on the test dataset to create a test sparse matrix\n",
    "test_matrix=tfidf.transform(features_test)\n",
    "test_matrix"
   ]
  },
  {
   "cell_type": "code",
   "execution_count": 13,
   "id": "81cfad47",
   "metadata": {},
   "outputs": [
    {
     "data": {
      "text/plain": [
       "(5000, 11849)"
      ]
     },
     "execution_count": 13,
     "metadata": {},
     "output_type": "execute_result"
    }
   ],
   "source": [
    "# Creating a dataframe from the test sparse matrix\n",
    "test_df=pd.DataFrame(test_matrix.toarray(),columns=col_names)\n",
    "test_df.shape"
   ]
  },
  {
   "cell_type": "markdown",
   "id": "764362f7",
   "metadata": {},
   "source": [
    "### 5. Train a logistic regression using the training data."
   ]
  },
  {
   "cell_type": "code",
   "execution_count": 14,
   "id": "48925932",
   "metadata": {},
   "outputs": [],
   "source": [
    "# Downloading the libraries needed for Logistic regression\n",
    "from sklearn.linear_model import LogisticRegression\n",
    "from sklearn import datasets\n",
    "from sklearn.preprocessing import StandardScaler\n",
    "from sklearn.model_selection import KFold, cross_val_score"
   ]
  },
  {
   "cell_type": "code",
   "execution_count": 15,
   "id": "ec7e044e",
   "metadata": {},
   "outputs": [],
   "source": [
    "# Create logistic regression object\n",
    "logistic_regression = LogisticRegression(random_state=0)"
   ]
  },
  {
   "cell_type": "code",
   "execution_count": 16,
   "id": "2d581e8a",
   "metadata": {},
   "outputs": [
    {
     "data": {
      "text/plain": [
       "LogisticRegression(random_state=0)"
      ]
     },
     "execution_count": 16,
     "metadata": {},
     "output_type": "execute_result"
    }
   ],
   "source": [
    "# Creating Logistic Regression model on the Training dataset\n",
    "logit_model = logistic_regression.fit(training_df, target_train)\n",
    "logit_model"
   ]
  },
  {
   "cell_type": "markdown",
   "id": "d401f988",
   "metadata": {},
   "source": [
    "### 6. Find the model accuracy on test set."
   ]
  },
  {
   "cell_type": "code",
   "execution_count": 17,
   "id": "d1012b68",
   "metadata": {},
   "outputs": [
    {
     "data": {
      "text/plain": [
       "array([1, 1, 1, ..., 1, 0, 1], dtype=int64)"
      ]
     },
     "execution_count": 17,
     "metadata": {},
     "output_type": "execute_result"
    }
   ],
   "source": [
    "# Creating a prediction variable based on the logistic regression model \n",
    "tgt_pred_logit = logit_model.predict(test_df)\n",
    "tgt_pred_logit"
   ]
  },
  {
   "cell_type": "code",
   "execution_count": 18,
   "id": "ec18409d",
   "metadata": {},
   "outputs": [
    {
     "data": {
      "text/plain": [
       "88.82"
      ]
     },
     "execution_count": 18,
     "metadata": {},
     "output_type": "execute_result"
    }
   ],
   "source": [
    "# importing the libraries for creating confusion matrix and accuracy\n",
    "from sklearn.metrics import confusion_matrix, accuracy_score,recall_score,f1_score\n",
    "accuracy_logit = accuracy_score(target_test,tgt_pred_logit)*100\n",
    "accuracy_logit"
   ]
  },
  {
   "cell_type": "code",
   "execution_count": 19,
   "id": "0b1b8c18",
   "metadata": {},
   "outputs": [
    {
     "data": {
      "text/plain": [
       "0.8804000000000001"
      ]
     },
     "execution_count": 19,
     "metadata": {},
     "output_type": "execute_result"
    }
   ],
   "source": [
    "# Using Cross Validation to get the model results\n",
    "kf = KFold(n_splits=10, shuffle=True, random_state=1)\n",
    "# Performing Cross validation using the logit model\n",
    "cv_results_logit = cross_val_score(estimator=logit_model, X=training_df, y=target_train, cv=5, n_jobs=-1)\n",
    "# Calculating the accuracy of the model by computing the mean of the results from each fold\n",
    "cv_results_logit.mean()"
   ]
  },
  {
   "cell_type": "markdown",
   "id": "61adebc5",
   "metadata": {},
   "source": [
    "### 7. Create a confusion matrix for the test set predictions."
   ]
  },
  {
   "cell_type": "code",
   "execution_count": 20,
   "id": "28c565da",
   "metadata": {},
   "outputs": [
    {
     "data": {
      "text/plain": [
       "array([[2235,  313],\n",
       "       [ 246, 2206]], dtype=int64)"
      ]
     },
     "execution_count": 20,
     "metadata": {},
     "output_type": "execute_result"
    }
   ],
   "source": [
    "# Creating confusion matrix using the test data and the predicted data\n",
    "confusion_mat_logit = confusion_matrix(target_test,tgt_pred_logit)\n",
    "confusion_mat_logit"
   ]
  },
  {
   "cell_type": "code",
   "execution_count": 21,
   "id": "65c8fc5e",
   "metadata": {},
   "outputs": [
    {
     "data": {
      "text/plain": [
       "<sklearn.metrics._plot.confusion_matrix.ConfusionMatrixDisplay at 0x12c04e4e730>"
      ]
     },
     "execution_count": 21,
     "metadata": {},
     "output_type": "execute_result"
    },
    {
     "data": {
      "image/png": "[encoded data removed]",
      "text/plain": [
       "<Figure size 640x480 with 2 Axes>"
      ]
     },
     "metadata": {},
     "output_type": "display_data"
    }
   ],
   "source": [
    "# Displaying the confusion matrix\n",
    "from sklearn.metrics import ConfusionMatrixDisplay\n",
    "ConfusionMatrixDisplay.from_estimator(logit_model, test_df, target_test, normalize='all')"
   ]
  },
  {
   "cell_type": "markdown",
   "id": "b7df653b",
   "metadata": {},
   "source": [
    "### 8. Get the precision, recall, and F1-score for the test set predictions."
   ]
  },
  {
   "cell_type": "code",
   "execution_count": 22,
   "id": "f895c5ea",
   "metadata": {},
   "outputs": [
    {
     "name": "stdout",
     "output_type": "stream",
     "text": [
      "              precision    recall  f1-score   support\n",
      "\n",
      "           0       0.90      0.88      0.89      2548\n",
      "           1       0.88      0.90      0.89      2452\n",
      "\n",
      "    accuracy                           0.89      5000\n",
      "   macro avg       0.89      0.89      0.89      5000\n",
      "weighted avg       0.89      0.89      0.89      5000\n",
      "\n"
     ]
    }
   ],
   "source": [
    "# Importing the library for printing the Precision, recall and f1-score\n",
    "from sklearn.metrics import classification_report,precision_score,recall_score,f1_score\n",
    "print(classification_report(target_test,tgt_pred_logit))"
   ]
  },
  {
   "cell_type": "markdown",
   "id": "811c6978",
   "metadata": {},
   "source": [
    "#### The Precision indicates the percentage of all postive predictions made by the model and how accurate is it. The recall indicates the percentage of all the positives that were accurately predicted by the model. The F1- score is the harmonic mean between the precision and recall scores. The results indicate that the logistic regression model can be a better model as the Precision, recall and f1-score all are close to 1. "
   ]
  },
  {
   "cell_type": "markdown",
   "id": "277b1721",
   "metadata": {},
   "source": [
    "### 9. Create a ROC curve for the test set."
   ]
  },
  {
   "cell_type": "code",
   "execution_count": 23,
   "id": "de14db74",
   "metadata": {},
   "outputs": [
    {
     "data": {
      "text/plain": [
       "array([0.77493722, 0.85528604, 0.76862339, ..., 0.66835251, 0.07633755,\n",
       "       0.92262631])"
      ]
     },
     "execution_count": 23,
     "metadata": {},
     "output_type": "execute_result"
    }
   ],
   "source": [
    "# Downloading the libraries for calculating the roc curve\n",
    "from sklearn.metrics import roc_curve, roc_auc_score\n",
    "# Get predicted probabilities\n",
    "target_probabilities_logit = logit_model.predict_proba(test_df)[:,1]\n",
    "target_probabilities_logit"
   ]
  },
  {
   "cell_type": "code",
   "execution_count": 24,
   "id": "53c4fdb7",
   "metadata": {},
   "outputs": [],
   "source": [
    "# Create true and false positive rates\n",
    "false_positive_rate_logit, true_positive_rate_logit, threshold_logit = roc_curve(target_test,target_probabilities_logit)"
   ]
  },
  {
   "cell_type": "code",
   "execution_count": 25,
   "id": "37e8953e",
   "metadata": {},
   "outputs": [
    {
     "data": {
      "image/png": "[encoded data removed]",
      "text/plain": [
       "<Figure size 640x480 with 1 Axes>"
      ]
     },
     "metadata": {},
     "output_type": "display_data"
    }
   ],
   "source": [
    "# Plot ROC curve\n",
    "import matplotlib.pyplot as plt\n",
    "plt.title(\"Receiver Operating Characteristic of Logistic Regression Model\")\n",
    "plt.plot(false_positive_rate_logit, true_positive_rate_logit,color=\"red\")\n",
    "plt.plot([0, 1], ls=\"--\")\n",
    "plt.plot([0, 0], [1, 0] , c=\".7\"), plt.plot([1, 1] , c=\".7\")\n",
    "plt.ylabel(\"True Positive Rate\")\n",
    "plt.xlabel(\"False Positive Rate\")\n",
    "plt.show()"
   ]
  },
  {
   "cell_type": "markdown",
   "id": "c452229b",
   "metadata": {},
   "source": [
    "#### The ROC curve is one of the useful method to find if our model is a good fit for the dataset.The gray line indicates a model that predicts every observation correctly. The red curve indicates that our model is close to the gray line and is farther from the blue dotted line (which is from random model), indicating the logit model can be a good fit."
   ]
  },
  {
   "cell_type": "markdown",
   "id": "54045b00",
   "metadata": {},
   "source": [
    "### 10. Pick another classification model you learned about this week and repeat steps (5) – (9)."
   ]
  },
  {
   "cell_type": "markdown",
   "id": "292efbaa",
   "metadata": {},
   "source": [
    "#### SVM"
   ]
  },
  {
   "cell_type": "code",
   "execution_count": 26,
   "id": "16f87271",
   "metadata": {},
   "outputs": [
    {
     "data": {
      "text/plain": [
       "SVC(gamma='auto', kernel='linear', probability=True)"
      ]
     },
     "execution_count": 26,
     "metadata": {},
     "output_type": "execute_result"
    }
   ],
   "source": [
    "# Importing the libraries for SVM model\n",
    "from sklearn import svm\n",
    "# Creating a SVM Object using kernal as Linear\n",
    "model_svm = svm.SVC(C=1.0, kernel='linear',gamma='auto',probability=True)\n",
    "# Training the model using  Training data\n",
    "model_svm.fit(training_df, target_train)\n",
    "model_svm"
   ]
  },
  {
   "cell_type": "code",
   "execution_count": 27,
   "id": "6aeb2002",
   "metadata": {},
   "outputs": [
    {
     "data": {
      "text/plain": [
       "88.82"
      ]
     },
     "execution_count": 27,
     "metadata": {},
     "output_type": "execute_result"
    }
   ],
   "source": [
    "# calculating the accuracy of the SVM Model by computing the Predicted values\n",
    "tgt_pred_svm = model_svm.predict(test_df)\n",
    "accuracy_svm = accuracy_score(target_test,tgt_pred_svm)*100\n",
    "accuracy_svm"
   ]
  },
  {
   "cell_type": "code",
   "execution_count": 28,
   "id": "9e1777a7",
   "metadata": {},
   "outputs": [
    {
     "data": {
      "text/plain": [
       "array([[2246,  302],\n",
       "       [ 257, 2195]], dtype=int64)"
      ]
     },
     "execution_count": 28,
     "metadata": {},
     "output_type": "execute_result"
    }
   ],
   "source": [
    "# Creating confusion matrix for SVM Model\n",
    "confusion_mat_svm = confusion_matrix(target_test,tgt_pred_svm)\n",
    "confusion_mat_svm"
   ]
  },
  {
   "cell_type": "code",
   "execution_count": 29,
   "id": "9161c7c4",
   "metadata": {},
   "outputs": [
    {
     "data": {
      "text/plain": [
       "<sklearn.metrics._plot.confusion_matrix.ConfusionMatrixDisplay at 0x12c7dddab20>"
      ]
     },
     "execution_count": 29,
     "metadata": {},
     "output_type": "execute_result"
    },
    {
     "data": {
      "image/png": "[encoded data removed]",
      "text/plain": [
       "<Figure size 640x480 with 2 Axes>"
      ]
     },
     "metadata": {},
     "output_type": "display_data"
    }
   ],
   "source": [
    "# Displaying the Confusion matrix results\n",
    "ConfusionMatrixDisplay.from_estimator(model_svm, test_df, target_test, normalize='all')"
   ]
  },
  {
   "cell_type": "code",
   "execution_count": 30,
   "id": "089eedba",
   "metadata": {},
   "outputs": [
    {
     "name": "stdout",
     "output_type": "stream",
     "text": [
      "              precision    recall  f1-score   support\n",
      "\n",
      "           0       0.90      0.88      0.89      2548\n",
      "           1       0.88      0.90      0.89      2452\n",
      "\n",
      "    accuracy                           0.89      5000\n",
      "   macro avg       0.89      0.89      0.89      5000\n",
      "weighted avg       0.89      0.89      0.89      5000\n",
      "\n"
     ]
    }
   ],
   "source": [
    "# Printing the results of Precision, recall and F1 score of SVM model\n",
    "print(classification_report(target_test,tgt_pred_svm))"
   ]
  },
  {
   "cell_type": "code",
   "execution_count": 31,
   "id": "3d342352",
   "metadata": {},
   "outputs": [
    {
     "data": {
      "text/plain": [
       "array([0.93638667, 0.94750876, 0.93525826, ..., 0.79506358, 0.01358148,\n",
       "       0.9849001 ])"
      ]
     },
     "execution_count": 31,
     "metadata": {},
     "output_type": "execute_result"
    }
   ],
   "source": [
    "# Get predicted probabilities of SVM Model\n",
    "target_probabilities_svm = model_svm.predict_proba(test_df)[:,1]\n",
    "target_probabilities_svm"
   ]
  },
  {
   "cell_type": "code",
   "execution_count": 32,
   "id": "f7367ff4",
   "metadata": {},
   "outputs": [],
   "source": [
    "# Create true and false positive rates of SVM model\n",
    "false_positive_rate_svm, true_positive_rate_svm, threshold_svm = roc_curve(target_test,target_probabilities_svm)"
   ]
  },
  {
   "cell_type": "code",
   "execution_count": 33,
   "id": "f26d1e8b",
   "metadata": {},
   "outputs": [
    {
     "data": {
      "image/png": "[encoded data removed]",
      "text/plain": [
       "<Figure size 640x480 with 1 Axes>"
      ]
     },
     "metadata": {},
     "output_type": "display_data"
    }
   ],
   "source": [
    "# Plot ROC curve of SVM Model\n",
    "import matplotlib.pyplot as plt\n",
    "plt.title(\"Receiver Operating Characteristic of SVM Model\")\n",
    "plt.plot(false_positive_rate_svm, true_positive_rate_svm)\n",
    "plt.plot([0, 1], ls=\"--\")\n",
    "plt.plot([0, 0], [1, 0] , c=\".7\"), plt.plot([1, 1] , c=\".7\")\n",
    "plt.ylabel(\"True Positive Rate\")\n",
    "plt.xlabel(\"False Positive Rate\")\n",
    "plt.show()"
   ]
  },
  {
   "cell_type": "markdown",
   "id": "63b876f9",
   "metadata": {},
   "source": [
    "#### Naive bayes"
   ]
  },
  {
   "cell_type": "code",
   "execution_count": 34,
   "id": "a0511f38",
   "metadata": {},
   "outputs": [],
   "source": [
    "# Downloading  MultinomialNB from sklearn\n",
    "from sklearn.naive_bayes import MultinomialNB"
   ]
  },
  {
   "cell_type": "code",
   "execution_count": 35,
   "id": "7a652255",
   "metadata": {},
   "outputs": [],
   "source": [
    "# Create Multinomial Naive Bayes objecct\n",
    "classifer = MultinomialNB()"
   ]
  },
  {
   "cell_type": "code",
   "execution_count": 36,
   "id": "99f940a5",
   "metadata": {},
   "outputs": [
    {
     "data": {
      "text/plain": [
       "MultinomialNB()"
      ]
     },
     "execution_count": 36,
     "metadata": {},
     "output_type": "execute_result"
    }
   ],
   "source": [
    "# Create a Naive Bayes model on the training data\n",
    "naives_model = classifer.fit(training_df, target_train)\n",
    "naives_model"
   ]
  },
  {
   "cell_type": "code",
   "execution_count": 37,
   "id": "278a6659",
   "metadata": {},
   "outputs": [
    {
     "data": {
      "text/plain": [
       "86.16"
      ]
     },
     "execution_count": 37,
     "metadata": {},
     "output_type": "execute_result"
    }
   ],
   "source": [
    "# Calculating accuracy of the model \n",
    "tgt_pred_naives = naives_model.predict(test_df)\n",
    "# Calculating the accuracy from the Predicted values\n",
    "accuracy_naives = accuracy_score(target_test,tgt_pred_naives)*100\n",
    "accuracy_naives"
   ]
  },
  {
   "cell_type": "code",
   "execution_count": 38,
   "id": "7068d48c",
   "metadata": {},
   "outputs": [
    {
     "data": {
      "text/plain": [
       "array([[2203,  345],\n",
       "       [ 347, 2105]], dtype=int64)"
      ]
     },
     "execution_count": 38,
     "metadata": {},
     "output_type": "execute_result"
    }
   ],
   "source": [
    "# Creating confusion matrix\n",
    "confusion_mat_naives= confusion_matrix(target_test,tgt_pred_naives)\n",
    "confusion_mat_naives"
   ]
  },
  {
   "cell_type": "code",
   "execution_count": 39,
   "id": "8dffc387",
   "metadata": {},
   "outputs": [
    {
     "data": {
      "text/plain": [
       "<sklearn.metrics._plot.confusion_matrix.ConfusionMatrixDisplay at 0x12c09deb430>"
      ]
     },
     "execution_count": 39,
     "metadata": {},
     "output_type": "execute_result"
    },
    {
     "data": {
      "image/png": "[encoded data removed]",
      "text/plain": [
       "<Figure size 640x480 with 2 Axes>"
      ]
     },
     "metadata": {},
     "output_type": "display_data"
    }
   ],
   "source": [
    "# Displating the Confusion Matrix results\n",
    "ConfusionMatrixDisplay.from_estimator(naives_model, test_df, target_test, normalize='all')"
   ]
  },
  {
   "cell_type": "code",
   "execution_count": 40,
   "id": "1dd07196",
   "metadata": {},
   "outputs": [
    {
     "name": "stdout",
     "output_type": "stream",
     "text": [
      "              precision    recall  f1-score   support\n",
      "\n",
      "           0       0.86      0.86      0.86      2548\n",
      "           1       0.86      0.86      0.86      2452\n",
      "\n",
      "    accuracy                           0.86      5000\n",
      "   macro avg       0.86      0.86      0.86      5000\n",
      "weighted avg       0.86      0.86      0.86      5000\n",
      "\n"
     ]
    }
   ],
   "source": [
    "# Calculating the Precision , Recall and F1 Score of the Naive Bayes Model\n",
    "print(classification_report(target_test,tgt_pred_naives))"
   ]
  },
  {
   "cell_type": "code",
   "execution_count": 41,
   "id": "b965880c",
   "metadata": {},
   "outputs": [
    {
     "name": "stdout",
     "output_type": "stream",
     "text": [
      "Accuracy of Naive bayes Model: 0.8616\n",
      "Precision of Naive bayes Model: 0.8591836734693877\n",
      "Recall of Naive bayes Model: 0.8584828711256117\n",
      "F1 Score of Naive bayes Model: 0.8588331293349653\n"
     ]
    }
   ],
   "source": [
    "# Other way of calculating accuracy, precision, recall and F1-score\n",
    "naive_accuracy = accuracy_score(target_test, tgt_pred_naives)\n",
    "print(f\"Accuracy of Naive bayes Model: {naive_accuracy}\")\n",
    "\n",
    "naive_precision = precision_score(target_test, tgt_pred_naives)\n",
    "naive_recall = recall_score(target_test, tgt_pred_naives)\n",
    "naive_f1score = f1_score(target_test, tgt_pred_naives)\n",
    "\n",
    "print(f\"Precision of Naive bayes Model: {naive_precision}\")\n",
    "print(f\"Recall of Naive bayes Model: {naive_recall}\")\n",
    "print(f\"F1 Score of Naive bayes Model: {naive_f1score}\")"
   ]
  },
  {
   "cell_type": "code",
   "execution_count": 42,
   "id": "47439d5d",
   "metadata": {},
   "outputs": [
    {
     "data": {
      "text/plain": [
       "array([0.54703197, 0.66979557, 0.60411182, ..., 0.78745013, 0.22667088,\n",
       "       0.78843637])"
      ]
     },
     "execution_count": 42,
     "metadata": {},
     "output_type": "execute_result"
    }
   ],
   "source": [
    "# Get predicted probabilities of naive Bayes Model\n",
    "target_probabilities_naives = naives_model.predict_proba(test_df)[:,1]\n",
    "target_probabilities_naives"
   ]
  },
  {
   "cell_type": "code",
   "execution_count": 43,
   "id": "9ecf2137",
   "metadata": {},
   "outputs": [],
   "source": [
    "# Create true and false positive rates of Naive Bayes Model\n",
    "false_positive_rate_naives, true_positive_rate_naives, threshold_naives = roc_curve(target_test,target_probabilities_naives)"
   ]
  },
  {
   "cell_type": "code",
   "execution_count": 44,
   "id": "82ee9a3c",
   "metadata": {},
   "outputs": [
    {
     "data": {
      "image/png": "[encoded data removed]",
      "text/plain": [
       "<Figure size 640x480 with 1 Axes>"
      ]
     },
     "metadata": {},
     "output_type": "display_data"
    }
   ],
   "source": [
    "# Plot ROC curve for Naive bayes\n",
    "import matplotlib.pyplot as plt\n",
    "plt.title(\"ROC Curve of Naive bayes vs Logistic Regression\")\n",
    "plt.plot(false_positive_rate_naives, true_positive_rate_naives, color=\"green\", label=\"Naive Bayes\")\n",
    "plt.plot(false_positive_rate_logit, true_positive_rate_logit,color=\"red\", label=\"Logistic Regression\")\n",
    "plt.plot(false_positive_rate_svm, true_positive_rate_svm,color=\"blue\", label=\"SVM Model\")\n",
    "plt.plot([0, 0], [1, 0] , c=\".7\"), plt.plot([1, 1] , c=\".7\")\n",
    "plt.plot([0, 1], ls=\"--\")\n",
    "plt.ylabel(\"True Positive Rate\")\n",
    "plt.xlabel(\"False Positive Rate\")\n",
    "plt.legend()\n",
    "plt.show()"
   ]
  },
  {
   "cell_type": "markdown",
   "id": "1d54c36e",
   "metadata": {},
   "source": [
    "#### The ROC Curve  indicates that Logistic regression and SVM can be a better fit than Naive Bayes due to it being close to the optimal Gray line. More area under the curve indicates a better fit for the dataset. This is also evident from the accuracy scores of the 2 models."
   ]
  }
 ],
 "metadata": {
  "kernelspec": {
   "display_name": "Python 3 (ipykernel)",
   "language": "python",
   "name": "python3"
  },
  "language_info": {
   "codemirror_mode": {
    "name": "ipython",
    "version": 3
   },
   "file_extension": ".py",
   "mimetype": "text/x-python",
   "name": "python",
   "nbconvert_exporter": "python",
   "pygments_lexer": "ipython3",
   "version": "3.9.13"
  },
  "toc": {
   "base_numbering": 1,
   "nav_menu": {},
   "number_sections": false,
   "sideBar": false,
   "skip_h1_title": true,
   "title_cell": "Table of Contents",
   "title_sidebar": "Contents",
   "toc_cell": true,
   "toc_position": {},
   "toc_section_display": true,
   "toc_window_display": true
  }
 },
 "nbformat": 4,
 "nbformat_minor": 5
}
